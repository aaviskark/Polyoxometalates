{
 "cells": [
  {
   "cell_type": "code",
   "execution_count": 1,
   "id": "f864274d",
   "metadata": {},
   "outputs": [],
   "source": [
    "import pandas as pd\n",
    "import numpy as np\n",
    "import matplotlib.pyplot as plt"
   ]
  },
  {
   "cell_type": "code",
   "execution_count": 5,
   "id": "29064473",
   "metadata": {},
   "outputs": [
    {
     "data": {
      "text/html": [
       "<div>\n",
       "<style scoped>\n",
       "    .dataframe tbody tr th:only-of-type {\n",
       "        vertical-align: middle;\n",
       "    }\n",
       "\n",
       "    .dataframe tbody tr th {\n",
       "        vertical-align: top;\n",
       "    }\n",
       "\n",
       "    .dataframe thead th {\n",
       "        text-align: right;\n",
       "    }\n",
       "</style>\n",
       "<table border=\"1\" class=\"dataframe\">\n",
       "  <thead>\n",
       "    <tr style=\"text-align: right;\">\n",
       "      <th></th>\n",
       "      <th>3997.77341</th>\n",
       "      <th>0.00421</th>\n",
       "    </tr>\n",
       "  </thead>\n",
       "  <tbody>\n",
       "    <tr>\n",
       "      <th>0</th>\n",
       "      <td>3995.84491</td>\n",
       "      <td>0.00421</td>\n",
       "    </tr>\n",
       "    <tr>\n",
       "      <th>1</th>\n",
       "      <td>3993.91642</td>\n",
       "      <td>0.00421</td>\n",
       "    </tr>\n",
       "    <tr>\n",
       "      <th>2</th>\n",
       "      <td>3991.98792</td>\n",
       "      <td>0.00421</td>\n",
       "    </tr>\n",
       "    <tr>\n",
       "      <th>3</th>\n",
       "      <td>3990.05942</td>\n",
       "      <td>0.00421</td>\n",
       "    </tr>\n",
       "    <tr>\n",
       "      <th>4</th>\n",
       "      <td>3988.13093</td>\n",
       "      <td>0.00421</td>\n",
       "    </tr>\n",
       "  </tbody>\n",
       "</table>\n",
       "</div>"
      ],
      "text/plain": [
       "   3997.77341  0.00421   \n",
       "0  3995.84491     0.00421\n",
       "1  3993.91642     0.00421\n",
       "2  3991.98792     0.00421\n",
       "3  3990.05942     0.00421\n",
       "4  3988.13093     0.00421"
      ]
     },
     "execution_count": 5,
     "metadata": {},
     "output_type": "execute_result"
    }
   ],
   "source": [
    "x = pd.read_excel('lacunaryPOM.xlsx') #finds excel table and sets it = to x\n",
    "\n",
    "x.head()\n",
    "\n",
    "xval = x['cm**1'] #sets X value = to column titled 'cm**1'\n",
    "yval = x['Intensity'] #sets Y value = to colum titled 'Intensity'\n",
    "\n",
    "plt.plot(xval, yval/max(yval), label = 'Exp') # plots x value; yval is plot with data normalized to max value\n",
    "plt.vlines([794.602069,781.346875,768.280210,736.189320,703.411645,697.345754,668.769856,656.129052,641.984394,623.871298,605.703100,597.534117,588.777455,576.868481,570.141540,481.595284,460.297643,453.710326,451.041790,438.888460,424.207646,407.024576,390.749302,380.754206,373.807432,366.496356,362.193594,356.474457,341.644141,334.066545,326.372579,314.961092,302.683769, 297.810649,287.562187,277.042966,272.304783,265.366190,258.061811,253.902982,252.018993], min(yval) -.25, 1, color = 'red', label = 'DFT') # plots DFT values and sets min to minimum yval - .1\n",
    "plt.hlines(0,0,max(xval), color = 'gray', linestyle = 'dashed') # plots a dashed line at (0,0)\n",
    "plt.title('NiPOM IR Spectrum', size = 17) \n",
    "plt.xlabel(\"Frequency (cm^-1)\",size = 15)\n",
    "plt.ylabel(\"Relative Absorbance\", size = 15)\n",
    "plt.xlim(max(xval), min(xval)) # inverts X axis to go from highest to lowest\n",
    "plt.ylim(min(yval) -.25, 1.30) # sets y axis min to start at minimun yval -.1; max at 1.30 \n",
    " \n",
    "plt.legend(loc = 'upper right')\n",
    "\n",
    "plt.tight_layout()\n",
    "plt.savefig('./IR_NiPOM.pdf')\n",
    "plt.show()\n"
   ]
  },
  {
   "cell_type": "code",
   "execution_count": null,
   "id": "9397d96a",
   "metadata": {},
   "outputs": [],
   "source": []
  }
 ],
 "metadata": {
  "kernelspec": {
   "display_name": "Python 3 (ipykernel)",
   "language": "python",
   "name": "python3"
  },
  "language_info": {
   "codemirror_mode": {
    "name": "ipython",
    "version": 3
   },
   "file_extension": ".py",
   "mimetype": "text/x-python",
   "name": "python",
   "nbconvert_exporter": "python",
   "pygments_lexer": "ipython3",
   "version": "3.7.3"
  }
 },
 "nbformat": 4,
 "nbformat_minor": 5
}
